{
  "nbformat": 4,
  "nbformat_minor": 0,
  "metadata": {
    "colab": {
      "name": "Tensorflow_Regression_Classification.ipynb",
      "provenance": [],
      "collapsed_sections": [],
      "authorship_tag": "ABX9TyPIy/2yliz4Aku+BHS99XH8",
      "include_colab_link": true
    },
    "kernelspec": {
      "name": "python3",
      "display_name": "Python 3"
    }
  },
  "cells": [
    {
      "cell_type": "markdown",
      "metadata": {
        "id": "view-in-github",
        "colab_type": "text"
      },
      "source": [
        "<a href=\"https://colab.research.google.com/github/milkyme/DSlab_practice/blob/main/Tensorflow_Regression_Classification.ipynb\" target=\"_parent\"><img src=\"https://colab.research.google.com/assets/colab-badge.svg\" alt=\"Open In Colab\"/></a>"
      ]
    },
    {
      "cell_type": "markdown",
      "metadata": {
        "id": "XVSKhK75Enbc"
      },
      "source": [
        "# Linear Regression\n",
        "- The code below performs linear regression by optimizing the w and b in the function $$y_i = wx_i + b$$\n",
        "- The dataset is from Keras, where we want to predict 'MPG' based on 'Displacement'"
      ]
    },
    {
      "cell_type": "code",
      "metadata": {
        "colab": {
          "base_uri": "https://localhost:8080/",
          "height": 238
        },
        "id": "UhH-MgvW72Bz",
        "outputId": "3fe7958a-2ff6-4519-c6d3-abe7c27bc52f"
      },
      "source": [
        "import pathlib\n",
        "\n",
        "import pandas as pd\n",
        "\n",
        "import tensorflow as tf\n",
        "from tensorflow import keras\n",
        "from tensorflow.keras import layers\n",
        "\n",
        "dataset_path = keras.utils.get_file(\"auto-mpg.data\", \"http://archive.ics.uci.edu/ml/machine-learning-databases/auto-mpg/auto-mpg.data\")\n",
        "\n",
        "column_names = ['MPG','Cylinders','Displacement','Horsepower','Weight',\n",
        "                'Acceleration', 'Model Year', 'Origin']\n",
        "raw_dataset = pd.read_csv(dataset_path, names=column_names,\n",
        "                      na_values = \"?\", comment='\\t',\n",
        "                      sep=\" \", skipinitialspace=True)\n",
        "\n",
        "dataset = raw_dataset.copy()\n",
        "dataset = dataset.dropna()\n",
        "dataset.tail()"
      ],
      "execution_count": null,
      "outputs": [
        {
          "output_type": "stream",
          "text": [
            "Downloading data from http://archive.ics.uci.edu/ml/machine-learning-databases/auto-mpg/auto-mpg.data\n",
            "32768/30286 [================================] - 0s 0us/step\n"
          ],
          "name": "stdout"
        },
        {
          "output_type": "execute_result",
          "data": {
            "text/html": [
              "<div>\n",
              "<style scoped>\n",
              "    .dataframe tbody tr th:only-of-type {\n",
              "        vertical-align: middle;\n",
              "    }\n",
              "\n",
              "    .dataframe tbody tr th {\n",
              "        vertical-align: top;\n",
              "    }\n",
              "\n",
              "    .dataframe thead th {\n",
              "        text-align: right;\n",
              "    }\n",
              "</style>\n",
              "<table border=\"1\" class=\"dataframe\">\n",
              "  <thead>\n",
              "    <tr style=\"text-align: right;\">\n",
              "      <th></th>\n",
              "      <th>MPG</th>\n",
              "      <th>Cylinders</th>\n",
              "      <th>Displacement</th>\n",
              "      <th>Horsepower</th>\n",
              "      <th>Weight</th>\n",
              "      <th>Acceleration</th>\n",
              "      <th>Model Year</th>\n",
              "      <th>Origin</th>\n",
              "    </tr>\n",
              "  </thead>\n",
              "  <tbody>\n",
              "    <tr>\n",
              "      <th>393</th>\n",
              "      <td>27.0</td>\n",
              "      <td>4</td>\n",
              "      <td>140.0</td>\n",
              "      <td>86.0</td>\n",
              "      <td>2790.0</td>\n",
              "      <td>15.6</td>\n",
              "      <td>82</td>\n",
              "      <td>1</td>\n",
              "    </tr>\n",
              "    <tr>\n",
              "      <th>394</th>\n",
              "      <td>44.0</td>\n",
              "      <td>4</td>\n",
              "      <td>97.0</td>\n",
              "      <td>52.0</td>\n",
              "      <td>2130.0</td>\n",
              "      <td>24.6</td>\n",
              "      <td>82</td>\n",
              "      <td>2</td>\n",
              "    </tr>\n",
              "    <tr>\n",
              "      <th>395</th>\n",
              "      <td>32.0</td>\n",
              "      <td>4</td>\n",
              "      <td>135.0</td>\n",
              "      <td>84.0</td>\n",
              "      <td>2295.0</td>\n",
              "      <td>11.6</td>\n",
              "      <td>82</td>\n",
              "      <td>1</td>\n",
              "    </tr>\n",
              "    <tr>\n",
              "      <th>396</th>\n",
              "      <td>28.0</td>\n",
              "      <td>4</td>\n",
              "      <td>120.0</td>\n",
              "      <td>79.0</td>\n",
              "      <td>2625.0</td>\n",
              "      <td>18.6</td>\n",
              "      <td>82</td>\n",
              "      <td>1</td>\n",
              "    </tr>\n",
              "    <tr>\n",
              "      <th>397</th>\n",
              "      <td>31.0</td>\n",
              "      <td>4</td>\n",
              "      <td>119.0</td>\n",
              "      <td>82.0</td>\n",
              "      <td>2720.0</td>\n",
              "      <td>19.4</td>\n",
              "      <td>82</td>\n",
              "      <td>1</td>\n",
              "    </tr>\n",
              "  </tbody>\n",
              "</table>\n",
              "</div>"
            ],
            "text/plain": [
              "      MPG  Cylinders  Displacement  ...  Acceleration  Model Year  Origin\n",
              "393  27.0          4         140.0  ...          15.6          82       1\n",
              "394  44.0          4          97.0  ...          24.6          82       2\n",
              "395  32.0          4         135.0  ...          11.6          82       1\n",
              "396  28.0          4         120.0  ...          18.6          82       1\n",
              "397  31.0          4         119.0  ...          19.4          82       1\n",
              "\n",
              "[5 rows x 8 columns]"
            ]
          },
          "metadata": {
            "tags": []
          },
          "execution_count": 4
        }
      ]
    },
    {
      "cell_type": "code",
      "metadata": {
        "id": "kFnh23Cc8nfD"
      },
      "source": [
        "# x, y data for linear regression\n",
        "x_data = dataset['MPG']\n",
        "y_data = dataset['Displacement']"
      ],
      "execution_count": null,
      "outputs": []
    },
    {
      "cell_type": "markdown",
      "metadata": {
        "id": "vqYXPbbgIdMy"
      },
      "source": [
        "- The code below represents a linear regression model and procedure to optimize w and b to make a cost function lower by going through iteration steps.\n",
        "- w and b are randomly initialized variables which have value between [0, 1], [-1, 1] repectively.\n",
        "- Cost function, mean square error(MSE) is used as objective function. As MSE represents the error between model and data, iteration steps progress to find optimal w and b to minimize the MSE.(It causes minimizing the error between model and data)\n",
        "$$ MSE = {1 \\over n}\\sum^n_i(h_i - data_i)^2 $$\n",
        "- Gradient Descent, which changes w and b in proportion to learning rate and partial derivative every iteration, is used as optimizer.\n",
        "$$ Gradient Descent : w_{new} = w_{old} - \\alpha{ \\partial {MSE} \\over \\partial w}\\mbox{(b is renewed as same)}$$"
      ]
    },
    {
      "cell_type": "code",
      "metadata": {
        "id": "7SK-cIJJ06Bh",
        "colab": {
          "base_uri": "https://localhost:8080/"
        },
        "outputId": "c7268945-4b50-44ff-e84c-2d3f68c911cc"
      },
      "source": [
        "import tensorflow.compat.v1 as tf\n",
        "tf.disable_v2_behavior()\n",
        "\n",
        "# initial_value from uniform[-1, 1]\n",
        "w = tf.Variable(tf.random.uniform([1], 0.0, 1.0))\n",
        "b = tf.Variable(tf.random.uniform([1], -1.0, 1.0))\n",
        "\n",
        "hypothesis = w*x_data + b\n",
        "\n",
        "cost = tf.reduce_mean(tf.square(hypothesis - y_data))\n",
        "\n",
        "rate = tf.Variable(0.001) # learning rate, alpha\n",
        "optimizer = tf.train.GradientDescentOptimizer(rate)\n",
        "train = optimizer.minimize(cost)\n",
        "\n",
        "init = tf.initialize_all_variables()\n",
        "sess = tf.Session()\n",
        "sess.run(init)\n",
        "\n",
        "for step in range(800):\n",
        "  sess.run(train)\n",
        "  if step % 50 == 0:\n",
        "    print('{:4} {} {} {}'.format(step, sess.run(cost), sess.run(w), sess.run(b))) # [step, cost, w, b]"
      ],
      "execution_count": null,
      "outputs": [
        {
          "output_type": "stream",
          "text": [
            "   0 24772.533203125 [7.6781034] [0.40304157]\n",
            "  50 23351.3359375 [6.211534] [4.7757273]\n",
            " 100 22967.33984375 [6.0433354] [9.154481]\n",
            " 150 22590.892578125 [5.876801] [13.489928]\n",
            " 200 22221.861328125 [5.711913] [17.7825]\n",
            " 250 21860.091796875 [5.5486565] [22.03261]\n",
            " 300 21505.443359375 [5.3870144] [26.240683]\n",
            " 350 21157.77734375 [5.2269707] [30.407145]\n",
            " 400 20816.953125 [5.0685105] [34.53239]\n",
            " 450 20482.833984375 [4.911617] [38.616844]\n",
            " 500 20155.296875 [4.756275] [42.660896]\n",
            " 550 19834.203125 [4.6024704] [46.664948]\n",
            " 600 19519.431640625 [4.4501867] [50.629395]\n",
            " 650 19210.85546875 [4.299409] [54.554638]\n",
            " 700 18908.3515625 [4.1501226] [58.441048]\n",
            " 750 18611.802734375 [4.0023136] [62.289]\n"
          ],
          "name": "stdout"
        }
      ]
    },
    {
      "cell_type": "markdown",
      "metadata": {
        "id": "mi0dezkcMm0Z"
      },
      "source": [
        "# Logistic Regression(Classification)\n",
        "- The code below performs logistic regression by optimizing w and b to classify accurately for given label with function h$$h(x) = wx + b$$\n",
        "- The dataset is titanic data from external site, where we want to classify 'survived' based on 'sex'"
      ]
    },
    {
      "cell_type": "code",
      "metadata": {
        "colab": {
          "base_uri": "https://localhost:8080/",
          "height": 204
        },
        "id": "fX6gT_kwySmV",
        "outputId": "627507d2-b013-4bc6-c5bf-2da051cd1057"
      },
      "source": [
        "from six.moves import urllib\n",
        "\n",
        "import tensorflow.compat.v2.feature_column as fc\n",
        "\n",
        "dftrain = pd.read_csv('https://storage.googleapis.com/tf-datasets/titanic/train.csv')\n",
        "dfeval = pd.read_csv('https://storage.googleapis.com/tf-datasets/titanic/eval.csv')\n",
        "\n",
        "dftrain.head()\n",
        "\n",
        "sex = dftrain.pop('sex')\n",
        "\n",
        "dftrain['sex'] = (sex == 'male')*1.0 # 0 is female, 1 is male\n",
        "dftrain.tail()\n"
      ],
      "execution_count": null,
      "outputs": [
        {
          "output_type": "execute_result",
          "data": {
            "text/html": [
              "<div>\n",
              "<style scoped>\n",
              "    .dataframe tbody tr th:only-of-type {\n",
              "        vertical-align: middle;\n",
              "    }\n",
              "\n",
              "    .dataframe tbody tr th {\n",
              "        vertical-align: top;\n",
              "    }\n",
              "\n",
              "    .dataframe thead th {\n",
              "        text-align: right;\n",
              "    }\n",
              "</style>\n",
              "<table border=\"1\" class=\"dataframe\">\n",
              "  <thead>\n",
              "    <tr style=\"text-align: right;\">\n",
              "      <th></th>\n",
              "      <th>survived</th>\n",
              "      <th>age</th>\n",
              "      <th>n_siblings_spouses</th>\n",
              "      <th>parch</th>\n",
              "      <th>fare</th>\n",
              "      <th>class</th>\n",
              "      <th>deck</th>\n",
              "      <th>embark_town</th>\n",
              "      <th>alone</th>\n",
              "      <th>sex</th>\n",
              "    </tr>\n",
              "  </thead>\n",
              "  <tbody>\n",
              "    <tr>\n",
              "      <th>622</th>\n",
              "      <td>0</td>\n",
              "      <td>28.0</td>\n",
              "      <td>0</td>\n",
              "      <td>0</td>\n",
              "      <td>10.50</td>\n",
              "      <td>Second</td>\n",
              "      <td>unknown</td>\n",
              "      <td>Southampton</td>\n",
              "      <td>y</td>\n",
              "      <td>1.0</td>\n",
              "    </tr>\n",
              "    <tr>\n",
              "      <th>623</th>\n",
              "      <td>0</td>\n",
              "      <td>25.0</td>\n",
              "      <td>0</td>\n",
              "      <td>0</td>\n",
              "      <td>7.05</td>\n",
              "      <td>Third</td>\n",
              "      <td>unknown</td>\n",
              "      <td>Southampton</td>\n",
              "      <td>y</td>\n",
              "      <td>1.0</td>\n",
              "    </tr>\n",
              "    <tr>\n",
              "      <th>624</th>\n",
              "      <td>1</td>\n",
              "      <td>19.0</td>\n",
              "      <td>0</td>\n",
              "      <td>0</td>\n",
              "      <td>30.00</td>\n",
              "      <td>First</td>\n",
              "      <td>B</td>\n",
              "      <td>Southampton</td>\n",
              "      <td>y</td>\n",
              "      <td>0.0</td>\n",
              "    </tr>\n",
              "    <tr>\n",
              "      <th>625</th>\n",
              "      <td>0</td>\n",
              "      <td>28.0</td>\n",
              "      <td>1</td>\n",
              "      <td>2</td>\n",
              "      <td>23.45</td>\n",
              "      <td>Third</td>\n",
              "      <td>unknown</td>\n",
              "      <td>Southampton</td>\n",
              "      <td>n</td>\n",
              "      <td>0.0</td>\n",
              "    </tr>\n",
              "    <tr>\n",
              "      <th>626</th>\n",
              "      <td>0</td>\n",
              "      <td>32.0</td>\n",
              "      <td>0</td>\n",
              "      <td>0</td>\n",
              "      <td>7.75</td>\n",
              "      <td>Third</td>\n",
              "      <td>unknown</td>\n",
              "      <td>Queenstown</td>\n",
              "      <td>y</td>\n",
              "      <td>1.0</td>\n",
              "    </tr>\n",
              "  </tbody>\n",
              "</table>\n",
              "</div>"
            ],
            "text/plain": [
              "     survived   age  n_siblings_spouses  parch  ...     deck  embark_town alone  sex\n",
              "622         0  28.0                   0      0  ...  unknown  Southampton     y  1.0\n",
              "623         0  25.0                   0      0  ...  unknown  Southampton     y  1.0\n",
              "624         1  19.0                   0      0  ...        B  Southampton     y  0.0\n",
              "625         0  28.0                   1      2  ...  unknown  Southampton     n  0.0\n",
              "626         0  32.0                   0      0  ...  unknown   Queenstown     y  1.0\n",
              "\n",
              "[5 rows x 10 columns]"
            ]
          },
          "metadata": {
            "tags": []
          },
          "execution_count": 7
        }
      ]
    },
    {
      "cell_type": "code",
      "metadata": {
        "id": "C5XgdcETiUnb"
      },
      "source": [
        "# x, y data for logistic regression\n",
        "x_data = dftrain['sex']\n",
        "y_data = dftrain['survived'] # 1 is survived, 0 is not."
      ],
      "execution_count": null,
      "outputs": []
    },
    {
      "cell_type": "markdown",
      "metadata": {
        "id": "0LfRb8OCOM31"
      },
      "source": [
        "- The code below represents a logistic regression model and procedure to optimize w and b to make a cost function lower by going through iteration steps.\n",
        "- w and b are randomly initialized variables that both have values between [-1, 1]\n",
        "- A cost function, cross entropy error is used as an objective function. Cross entropy error is represented as $$ CEE = -{1 \\over n}\\sum^n_iy_ilog(H_i) + (1-y_i)log(1-H_i)$$\n",
        "$$ H_i = {1 \\over {1 + e^{-h_i}}} $$\n",
        "$$ h_i = wx_i + b $$\n",
        "It means that decreasing cross entropy error causes that the model can classify more accurately for labled classes. Through each iteration step, w and b is changed to minimize the cross entropy error.\n",
        "- Gradient Descent optimizer is used as above."
      ]
    },
    {
      "cell_type": "code",
      "metadata": {
        "colab": {
          "base_uri": "https://localhost:8080/"
        },
        "id": "lfmIXZzoAB2E",
        "outputId": "fdcbb36e-03d3-4e42-f946-3822d8e61a72"
      },
      "source": [
        "(import tensorflow.compat.v1 as tf\n",
        "tf.disable_v2_behavior()\n",
        "import numpy as np\n",
        "\n",
        "X = tf.placeholder(tf.float32)\n",
        "Y = tf.placeholder(tf.float32)\n",
        "\n",
        "w = tf.Variable(tf.random_uniform([1], -1.0, 1.0))\n",
        "b = tf.Variable(tf.random_uniform([1], -1.0, 1.0))\n",
        "h = w*X + b\n",
        "hypothesis = tf.div(1.0, 1.0 + tf.exp(-h))\n",
        "\n",
        "cost = -tf.reduce_mean(Y*tf.log(hypothesis) + (1-Y)*tf.log(1-hypothesis))\n",
        "\n",
        "rate = tf.Variable(0.1)\n",
        "optimizer = tf.train.GradientDescentOptimizer(rate)\n",
        "train = optimizer.minimize(cost)\n",
        "\n",
        "init = tf.initialize_all_variables()\n",
        "\n",
        "sess = tf.Session()\n",
        "sess.run(init)\n",
        "\n",
        "for step in range(2000):\n",
        "  sess.run(train, feed_dict={X: x_data, Y: y_data})\n",
        "  if step % 100 == 0:\n",
        "    print(step, sess.run(cost, feed_dict={X: x_data, Y: y_data}), sess.run(w), sess.run(b)) # [step, cost, w, b]"
      ],
      "execution_count": null,
      "outputs": [
        {
          "output_type": "stream",
          "text": [
            "0 0.6360776 [-0.31528845] [0.01135195]\n",
            "100 0.549276 [-1.1618564] [0.1266236]\n",
            "200 0.52156305 [-1.597391] [0.41808507]\n",
            "300 0.50767845 [-1.9007237] [0.6320486]\n",
            "400 0.5004616 [-2.1190622] [0.7869947]\n",
            "500 0.49658895 [-2.2787642] [0.90094435]\n",
            "600 0.49445635 [-2.3970764] [0.98584867]\n",
            "700 0.49325785 [-2.4856298] [1.0497373]\n",
            "800 0.49257347 [-2.5524478] [1.0981666]\n",
            "900 0.49217775 [-2.603185] [1.135081]\n",
            "1000 0.49194705 [-2.6419003] [1.1633363]\n",
            "1100 0.4918116 [-2.6715546] [1.1850322]\n",
            "1200 0.4917313 [-2.6943357] [1.201732]\n",
            "1300 0.4916837 [-2.711877] [1.2146108]\n",
            "1400 0.49165538 [-2.7254076] [1.2245559]\n",
            "1500 0.49163857 [-2.7358587] [1.2322454]\n",
            "1600 0.49162826 [-2.7439396] [1.2381957]\n",
            "1700 0.49162236 [-2.7501929] [1.2428027]\n",
            "1800 0.49161866 [-2.7550352] [1.2463717]\n",
            "1900 0.49161643 [-2.758787] [1.2491378]\n"
          ],
          "name": "stdout"
        }
      ]
    }
  ]
}