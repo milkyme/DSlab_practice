{
  "nbformat": 4,
  "nbformat_minor": 0,
  "metadata": {
    "colab": {
      "name": "Tensorflow01_Neural_Network.ipynb",
      "provenance": [],
      "collapsed_sections": [],
      "authorship_tag": "ABX9TyNxteUJXmQr8REarkdOSMe6",
      "include_colab_link": true
    },
    "kernelspec": {
      "display_name": "Python 3",
      "name": "python3"
    }
  },
  "cells": [
    {
      "cell_type": "markdown",
      "metadata": {
        "id": "view-in-github",
        "colab_type": "text"
      },
      "source": [
        "<a href=\"https://colab.research.google.com/github/milkyme/DSlab_practice/blob/main/Tensorflow01_Neural_Network.ipynb\" target=\"_parent\"><img src=\"https://colab.research.google.com/assets/colab-badge.svg\" alt=\"Open In Colab\"/></a>"
      ]
    },
    {
      "cell_type": "markdown",
      "metadata": {
        "id": "k3Q25HK2-qF-"
      },
      "source": [
        "# Simple Neural Network\n",
        "- The code below performs neural network which classifies binary category.\n",
        "- The dataset is titanic data from external, where we want to classify whether one survives or not based on several numerical features."
      ]
    },
    {
      "cell_type": "code",
      "metadata": {
        "id": "VL8hCGxcF0lY"
      },
      "source": [
        "import tensorflow as tf\n",
        "from tensorflow import keras\n",
        "import numpy as np\n",
        "import pandas as pd"
      ],
      "execution_count": 131,
      "outputs": []
    },
    {
      "cell_type": "code",
      "metadata": {
        "colab": {
          "base_uri": "https://localhost:8080/",
          "height": 204
        },
        "id": "03Yc-VAcl7lS",
        "outputId": "1d8ed3e0-4519-46af-ce87-1a3c8dd98d20"
      },
      "source": [
        "dftrain = pd.read_csv('https://storage.googleapis.com/tf-datasets/titanic/train.csv')\n",
        "dfeval = pd.read_csv('https://storage.googleapis.com/tf-datasets/titanic/eval.csv')\n",
        "# dftrain.shape (627, 10)\n",
        "# dfeval.shape (264, 10)\n",
        "dftrain.head()"
      ],
      "execution_count": 132,
      "outputs": [
        {
          "output_type": "execute_result",
          "data": {
            "text/html": [
              "<div>\n",
              "<style scoped>\n",
              "    .dataframe tbody tr th:only-of-type {\n",
              "        vertical-align: middle;\n",
              "    }\n",
              "\n",
              "    .dataframe tbody tr th {\n",
              "        vertical-align: top;\n",
              "    }\n",
              "\n",
              "    .dataframe thead th {\n",
              "        text-align: right;\n",
              "    }\n",
              "</style>\n",
              "<table border=\"1\" class=\"dataframe\">\n",
              "  <thead>\n",
              "    <tr style=\"text-align: right;\">\n",
              "      <th></th>\n",
              "      <th>survived</th>\n",
              "      <th>sex</th>\n",
              "      <th>age</th>\n",
              "      <th>n_siblings_spouses</th>\n",
              "      <th>parch</th>\n",
              "      <th>fare</th>\n",
              "      <th>class</th>\n",
              "      <th>deck</th>\n",
              "      <th>embark_town</th>\n",
              "      <th>alone</th>\n",
              "    </tr>\n",
              "  </thead>\n",
              "  <tbody>\n",
              "    <tr>\n",
              "      <th>0</th>\n",
              "      <td>0</td>\n",
              "      <td>male</td>\n",
              "      <td>22.0</td>\n",
              "      <td>1</td>\n",
              "      <td>0</td>\n",
              "      <td>7.2500</td>\n",
              "      <td>Third</td>\n",
              "      <td>unknown</td>\n",
              "      <td>Southampton</td>\n",
              "      <td>n</td>\n",
              "    </tr>\n",
              "    <tr>\n",
              "      <th>1</th>\n",
              "      <td>1</td>\n",
              "      <td>female</td>\n",
              "      <td>38.0</td>\n",
              "      <td>1</td>\n",
              "      <td>0</td>\n",
              "      <td>71.2833</td>\n",
              "      <td>First</td>\n",
              "      <td>C</td>\n",
              "      <td>Cherbourg</td>\n",
              "      <td>n</td>\n",
              "    </tr>\n",
              "    <tr>\n",
              "      <th>2</th>\n",
              "      <td>1</td>\n",
              "      <td>female</td>\n",
              "      <td>26.0</td>\n",
              "      <td>0</td>\n",
              "      <td>0</td>\n",
              "      <td>7.9250</td>\n",
              "      <td>Third</td>\n",
              "      <td>unknown</td>\n",
              "      <td>Southampton</td>\n",
              "      <td>y</td>\n",
              "    </tr>\n",
              "    <tr>\n",
              "      <th>3</th>\n",
              "      <td>1</td>\n",
              "      <td>female</td>\n",
              "      <td>35.0</td>\n",
              "      <td>1</td>\n",
              "      <td>0</td>\n",
              "      <td>53.1000</td>\n",
              "      <td>First</td>\n",
              "      <td>C</td>\n",
              "      <td>Southampton</td>\n",
              "      <td>n</td>\n",
              "    </tr>\n",
              "    <tr>\n",
              "      <th>4</th>\n",
              "      <td>0</td>\n",
              "      <td>male</td>\n",
              "      <td>28.0</td>\n",
              "      <td>0</td>\n",
              "      <td>0</td>\n",
              "      <td>8.4583</td>\n",
              "      <td>Third</td>\n",
              "      <td>unknown</td>\n",
              "      <td>Queenstown</td>\n",
              "      <td>y</td>\n",
              "    </tr>\n",
              "  </tbody>\n",
              "</table>\n",
              "</div>"
            ],
            "text/plain": [
              "   survived     sex   age  ...     deck  embark_town  alone\n",
              "0         0    male  22.0  ...  unknown  Southampton      n\n",
              "1         1  female  38.0  ...        C    Cherbourg      n\n",
              "2         1  female  26.0  ...  unknown  Southampton      y\n",
              "3         1  female  35.0  ...        C  Southampton      n\n",
              "4         0    male  28.0  ...  unknown   Queenstown      y\n",
              "\n",
              "[5 rows x 10 columns]"
            ]
          },
          "metadata": {
            "tags": []
          },
          "execution_count": 132
        }
      ]
    },
    {
      "cell_type": "markdown",
      "metadata": {
        "id": "JmMO8cMDoLN0"
      },
      "source": [
        "- 'sex', 'class', and 'alone' features are converted as numerical ones. \n",
        "- 'deck' is popped out because there is so many missing values.\n",
        "- 'embark_town' is also popped out because it's relatively not connected to 'survived'.\n",
        "- 'survived' is the feature we want to predict."
      ]
    },
    {
      "cell_type": "code",
      "metadata": {
        "colab": {
          "base_uri": "https://localhost:8080/",
          "height": 173
        },
        "id": "UndDXaLtmsO_",
        "outputId": "45ff6aa0-7416-40b0-8861-79309c9eae60"
      },
      "source": [
        "sex = dftrain.pop('sex')\n",
        "dftrain['sex'] = (sex == 'male')*1.0              # 0 : female, 1 : male\n",
        "\n",
        "dfclass = dftrain.pop('class')\n",
        "dftrain['class'] = (dfclass == 'First')*1.0\n",
        "dftrain['class'] = (dfclass == 'Second')*2.0\n",
        "dftrain['class'] = (dfclass == 'Third')*3.0       # 1 : First, 2 : Second, 3 : Third\n",
        "\n",
        "alone = dftrain.pop('alone')\n",
        "dftrain['alone'] = (alone == 'y')*1.0             # 0 : n, 1 : y\n",
        "\n",
        "deck = dftrain.pop('deck')                        # There are too many unknown data\n",
        "embark_town = dftrain.pop('embark_town')          # Non-related with survived\n",
        "\n",
        "survived = dftrain.pop('survived')                # It's label.\n",
        "\n",
        "stats_df = dftrain.describe()\n",
        "out_fields = ['mean','min','50%','max']\n",
        "stats_df = stats_df.loc[out_fields]\n",
        "stats_df"
      ],
      "execution_count": 133,
      "outputs": [
        {
          "output_type": "execute_result",
          "data": {
            "text/html": [
              "<div>\n",
              "<style scoped>\n",
              "    .dataframe tbody tr th:only-of-type {\n",
              "        vertical-align: middle;\n",
              "    }\n",
              "\n",
              "    .dataframe tbody tr th {\n",
              "        vertical-align: top;\n",
              "    }\n",
              "\n",
              "    .dataframe thead th {\n",
              "        text-align: right;\n",
              "    }\n",
              "</style>\n",
              "<table border=\"1\" class=\"dataframe\">\n",
              "  <thead>\n",
              "    <tr style=\"text-align: right;\">\n",
              "      <th></th>\n",
              "      <th>age</th>\n",
              "      <th>n_siblings_spouses</th>\n",
              "      <th>parch</th>\n",
              "      <th>fare</th>\n",
              "      <th>sex</th>\n",
              "      <th>class</th>\n",
              "      <th>alone</th>\n",
              "    </tr>\n",
              "  </thead>\n",
              "  <tbody>\n",
              "    <tr>\n",
              "      <th>mean</th>\n",
              "      <td>29.631308</td>\n",
              "      <td>0.545455</td>\n",
              "      <td>0.379585</td>\n",
              "      <td>34.385399</td>\n",
              "      <td>0.653907</td>\n",
              "      <td>1.631579</td>\n",
              "      <td>0.593301</td>\n",
              "    </tr>\n",
              "    <tr>\n",
              "      <th>min</th>\n",
              "      <td>0.750000</td>\n",
              "      <td>0.000000</td>\n",
              "      <td>0.000000</td>\n",
              "      <td>0.000000</td>\n",
              "      <td>0.000000</td>\n",
              "      <td>0.000000</td>\n",
              "      <td>0.000000</td>\n",
              "    </tr>\n",
              "    <tr>\n",
              "      <th>50%</th>\n",
              "      <td>28.000000</td>\n",
              "      <td>0.000000</td>\n",
              "      <td>0.000000</td>\n",
              "      <td>15.045800</td>\n",
              "      <td>1.000000</td>\n",
              "      <td>3.000000</td>\n",
              "      <td>1.000000</td>\n",
              "    </tr>\n",
              "    <tr>\n",
              "      <th>max</th>\n",
              "      <td>80.000000</td>\n",
              "      <td>8.000000</td>\n",
              "      <td>5.000000</td>\n",
              "      <td>512.329200</td>\n",
              "      <td>1.000000</td>\n",
              "      <td>3.000000</td>\n",
              "      <td>1.000000</td>\n",
              "    </tr>\n",
              "  </tbody>\n",
              "</table>\n",
              "</div>"
            ],
            "text/plain": [
              "            age  n_siblings_spouses     parch  ...       sex     class     alone\n",
              "mean  29.631308            0.545455  0.379585  ...  0.653907  1.631579  0.593301\n",
              "min    0.750000            0.000000  0.000000  ...  0.000000  0.000000  0.000000\n",
              "50%   28.000000            0.000000  0.000000  ...  1.000000  3.000000  1.000000\n",
              "max   80.000000            8.000000  5.000000  ...  1.000000  3.000000  1.000000\n",
              "\n",
              "[4 rows x 7 columns]"
            ]
          },
          "metadata": {
            "tags": []
          },
          "execution_count": 133
        }
      ]
    },
    {
      "cell_type": "code",
      "metadata": {
        "colab": {
          "base_uri": "https://localhost:8080/",
          "height": 173
        },
        "id": "eoFN00yNP4Bc",
        "outputId": "78526340-7143-461a-b6c2-56243f8c7a34"
      },
      "source": [
        "features = list(dftrain.columns)\n",
        "maximum = list(stats_df.loc[out_fields[3]])\n",
        "\n",
        "for i in range(7):\n",
        "  dftrain[features[i]] = dftrain[features[i]] / maximum[i]\n",
        "\n",
        "stats_df = dftrain.describe()\n",
        "out_fields = ['mean','min','50%','max']\n",
        "stats_df = stats_df.loc[out_fields]\n",
        "stats_df"
      ],
      "execution_count": 134,
      "outputs": [
        {
          "output_type": "execute_result",
          "data": {
            "text/html": [
              "<div>\n",
              "<style scoped>\n",
              "    .dataframe tbody tr th:only-of-type {\n",
              "        vertical-align: middle;\n",
              "    }\n",
              "\n",
              "    .dataframe tbody tr th {\n",
              "        vertical-align: top;\n",
              "    }\n",
              "\n",
              "    .dataframe thead th {\n",
              "        text-align: right;\n",
              "    }\n",
              "</style>\n",
              "<table border=\"1\" class=\"dataframe\">\n",
              "  <thead>\n",
              "    <tr style=\"text-align: right;\">\n",
              "      <th></th>\n",
              "      <th>age</th>\n",
              "      <th>n_siblings_spouses</th>\n",
              "      <th>parch</th>\n",
              "      <th>fare</th>\n",
              "      <th>sex</th>\n",
              "      <th>class</th>\n",
              "      <th>alone</th>\n",
              "    </tr>\n",
              "  </thead>\n",
              "  <tbody>\n",
              "    <tr>\n",
              "      <th>mean</th>\n",
              "      <td>0.370391</td>\n",
              "      <td>0.068182</td>\n",
              "      <td>0.075917</td>\n",
              "      <td>0.067116</td>\n",
              "      <td>0.653907</td>\n",
              "      <td>0.54386</td>\n",
              "      <td>0.593301</td>\n",
              "    </tr>\n",
              "    <tr>\n",
              "      <th>min</th>\n",
              "      <td>0.009375</td>\n",
              "      <td>0.000000</td>\n",
              "      <td>0.000000</td>\n",
              "      <td>0.000000</td>\n",
              "      <td>0.000000</td>\n",
              "      <td>0.00000</td>\n",
              "      <td>0.000000</td>\n",
              "    </tr>\n",
              "    <tr>\n",
              "      <th>50%</th>\n",
              "      <td>0.350000</td>\n",
              "      <td>0.000000</td>\n",
              "      <td>0.000000</td>\n",
              "      <td>0.029367</td>\n",
              "      <td>1.000000</td>\n",
              "      <td>1.00000</td>\n",
              "      <td>1.000000</td>\n",
              "    </tr>\n",
              "    <tr>\n",
              "      <th>max</th>\n",
              "      <td>1.000000</td>\n",
              "      <td>1.000000</td>\n",
              "      <td>1.000000</td>\n",
              "      <td>1.000000</td>\n",
              "      <td>1.000000</td>\n",
              "      <td>1.00000</td>\n",
              "      <td>1.000000</td>\n",
              "    </tr>\n",
              "  </tbody>\n",
              "</table>\n",
              "</div>"
            ],
            "text/plain": [
              "           age  n_siblings_spouses     parch  ...       sex    class     alone\n",
              "mean  0.370391            0.068182  0.075917  ...  0.653907  0.54386  0.593301\n",
              "min   0.009375            0.000000  0.000000  ...  0.000000  0.00000  0.000000\n",
              "50%   0.350000            0.000000  0.000000  ...  1.000000  1.00000  1.000000\n",
              "max   1.000000            1.000000  1.000000  ...  1.000000  1.00000  1.000000\n",
              "\n",
              "[4 rows x 7 columns]"
            ]
          },
          "metadata": {
            "tags": []
          },
          "execution_count": 134
        }
      ]
    },
    {
      "cell_type": "code",
      "metadata": {
        "id": "UoamjfLFnhvB"
      },
      "source": [
        "# Placeholder can't contain tensor object. It's for hatching the external variables.\n",
        "x_data = dftrain\n",
        "y_data = survived"
      ],
      "execution_count": 135,
      "outputs": []
    },
    {
      "cell_type": "code",
      "metadata": {
        "colab": {
          "base_uri": "https://localhost:8080/"
        },
        "id": "ZkQ6WQVCmsXs",
        "outputId": "0955e648-4d4d-4dad-9ed3-98fa5e9ee2c1"
      },
      "source": [
        "import tensorflow.compat.v1 as tf\n",
        "tf.disable_v2_behavior()\n",
        "\n",
        "X = tf.placeholder(tf.float32, shape=[None, 7])\n",
        "Y = tf.placeholder(tf.float32)\n",
        "\n",
        "w = tf.Variable(tf.random_uniform([7, 1], -1.0, 1.0))\n",
        "b = tf.Variable(tf.random_uniform([1], -1.0, 1.0))\n",
        "hypothesis = tf.sigmoid(tf.matmul(X, w) + b)\n",
        "\n",
        "cost = -tf.reduce_mean(Y*tf.log(hypothesis) + (1-Y)*(tf.log(1-hypothesis)))\n",
        "\n",
        "predicted = tf.cast(hypothesis > 0.5, dtype=tf.float32)\n",
        "accuracy = tf.reduce_mean(tf.cast(tf.equal(predicted, Y), dtype=tf.float32))\n",
        "\n",
        "rate = tf.Variable(0.01)\n",
        "optimizer = tf.train.GradientDescentOptimizer(rate)\n",
        "train = optimizer.minimize(cost)\n",
        "\n",
        "init = tf.global_variables_initializer()\n",
        "sess = tf.Session()\n",
        "sess.run(init)\n",
        "\n",
        "for step in range(1501):\n",
        "  sess.run(train, feed_dict={X: x_data, Y: y_data})\n",
        "  if step % 500 == 0:\n",
        "    print(\"step : {0}, cost : {1}, accuracy : {2},\".format(step, sess.run(cost, feed_dict={X: x_data, Y: y_data}), sess.run(accuracy, feed_dict={X: x_data, Y: y_data})))\n",
        "    print(\"w : {0}, b : {1}\".format(sess.run(w), sess.run(b)))"
      ],
      "execution_count": 172,
      "outputs": [
        {
          "output_type": "stream",
          "text": [
            "step : 0, cost : 0.743588924407959, accuracy : 0.46251994371414185,\n",
            "w : [[ 0.7924626 ]\n",
            " [-0.7097509 ]\n",
            " [ 0.15086468]\n",
            " [ 0.3462831 ]\n",
            " [ 0.42502728]\n",
            " [-0.4851378 ]\n",
            " [ 0.46134636]], b : [-0.4014945]\n",
            "step : 500, cost : 0.6819787621498108, accuracy : 0.5894858837127686,\n",
            "w : [[ 0.656323  ]\n",
            " [-0.690279  ]\n",
            " [ 0.15876691]\n",
            " [ 0.31847894]\n",
            " [ 0.18773167]\n",
            " [-0.46255404]\n",
            " [ 0.199224  ]], b : [-0.6531514]\n",
            "step : 1000, cost : 0.6765748262405396, accuracy : 0.6045496463775635,\n",
            "w : [[ 0.6159982 ]\n",
            " [-0.6640776 ]\n",
            " [ 0.17402098]\n",
            " [ 0.3065995 ]\n",
            " [ 0.14144006]\n",
            " [-0.33587363]\n",
            " [ 0.12511286]], b : [-0.66651833]\n",
            "step : 1500, cost : 0.6734614968299866, accuracy : 0.6095709204673767,\n",
            "w : [[ 0.58611804]\n",
            " [-0.6412139 ]\n",
            " [ 0.1857564 ]\n",
            " [ 0.2975143 ]\n",
            " [ 0.11349781]\n",
            " [-0.2326098 ]\n",
            " [ 0.07613003]], b : [-0.66540116]\n"
          ],
          "name": "stdout"
        }
      ]
    },
    {
      "cell_type": "markdown",
      "metadata": {
        "id": "fC85Cw0JcRmJ"
      },
      "source": [
        "- Neural network is comprised of several layers that have various nodes and activation function.\n",
        "- By trying various combinations with manipulating the number of layers and nodes, I notice two things. First one is simply increasing the number of layers does not help to get a high accuracy(in some cases, it causes  even lower accuracy). Second one is increasing the number of nodes is of help to some degree, but it's not always in effect.(empirically, above 256 is meaningless for these dataset and model. Of course, these two things are valid only for this example.)\n",
        "- I used some optimizers like SGD, RMSprop, and Adam, but there is no outstanding performed one.\n",
        "- Categorical cross entropy is used as loss function because our goal is doing binary classifying.\n",
        "- Finally, we can get about 70% accuracy.(It depends on the circumstances.)"
      ]
    },
    {
      "cell_type": "code",
      "metadata": {
        "colab": {
          "base_uri": "https://localhost:8080/"
        },
        "id": "_ITXwXOT5TWz",
        "outputId": "6e90ca30-95d9-44c1-bdc7-77b824ea1324"
      },
      "source": [
        "model = keras.Sequential([\n",
        "    keras.layers.Dense(128, activation='sigmoid'),\n",
        "    keras.layers.Dense(2, activation='sigmoid')\n",
        "])\n",
        "\n",
        "model.compile(optimizer='Adam',\n",
        "              loss='sparse_categorical_crossentropy',\n",
        "              metrics=['accuracy'])\n",
        "\n",
        "model.fit(x_data.values, y_data.values, epochs=5)"
      ],
      "execution_count": 176,
      "outputs": [
        {
          "output_type": "stream",
          "text": [
            "Train on 627 samples\n",
            "Epoch 1/5\n",
            "627/627 [==============================] - 0s 186us/sample - loss: 0.6603 - acc: 0.6124\n",
            "Epoch 2/5\n",
            "627/627 [==============================] - 0s 42us/sample - loss: 0.6398 - acc: 0.6124\n",
            "Epoch 3/5\n",
            "627/627 [==============================] - 0s 40us/sample - loss: 0.6234 - acc: 0.6667\n",
            "Epoch 4/5\n",
            "627/627 [==============================] - 0s 41us/sample - loss: 0.6018 - acc: 0.6858\n",
            "Epoch 5/5\n",
            "627/627 [==============================] - 0s 40us/sample - loss: 0.5874 - acc: 0.7241\n"
          ],
          "name": "stdout"
        },
        {
          "output_type": "execute_result",
          "data": {
            "text/plain": [
              "<tensorflow.python.keras.callbacks.History at 0x7f685f0e57b8>"
            ]
          },
          "metadata": {
            "tags": []
          },
          "execution_count": 176
        }
      ]
    }
  ]
}